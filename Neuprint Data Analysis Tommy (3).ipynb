{
 "cells": [
  {
   "cell_type": "markdown",
   "id": "abdc9734",
   "metadata": {},
   "source": [
    "# First Time Setup Processes"
   ]
  },
  {
   "cell_type": "code",
   "execution_count": null,
   "id": "b4c8d246",
   "metadata": {},
   "outputs": [],
   "source": [
    "import numpy as np\n",
    "import pandas as pd\n",
    "\n",
    "import bokeh\n",
    "import hvplot.pandas\n",
    "import holoviews as hv\n",
    "\n",
    "import bokeh.palettes\n",
    "from bokeh.plotting import figure, show, output_notebook\n",
    "output_notebook()"
   ]
  },
  {
   "cell_type": "code",
   "execution_count": null,
   "id": "0edc7256",
   "metadata": {},
   "outputs": [],
   "source": [
    "#create the client:\n",
    "   #first log into Neuprint online and copy auth token in account info. Insert auth token below\n",
    "   #insert hemibrain dataset version into fetch_version()\n",
    "   #must create new client if restart/clear outputs\n",
    "    \n",
    "#to access Neuprint data externally, go to the https://neuprint.janelia.org/?dataset=hemibrain:v1.2.1&qt=findneurons\n",
    "    #in upper right corner, click on the “my account” icon → account → Auth Token\n",
    "    #copy and paste the authentication token into the API to use externally\n",
    "\n",
    "from neuprint import Client\n",
    "\n",
    "c = Client('neuprint.janelia.org', dataset='hemibrain:v1.2.1', token='')\n",
    "c.fetch_version()"
   ]
  },
  {
   "cell_type": "code",
   "execution_count": null,
   "id": "a5bcbc39",
   "metadata": {
    "scrolled": true
   },
   "outputs": [],
   "source": [
    "#test for successful client initialization.\n",
    "  #should say \"Found 177 results\"\n",
    "\n",
    "q = \"\"\"\\\n",
    "    MATCH (n :Neuron {`AB(R)`: true})\n",
    "    WHERE n.pre > 10\n",
    "    RETURN n.bodyId AS bodyId, n.name AS name, n.pre AS numpre, n.post AS numpost\n",
    "    ORDER BY n.pre + n.post DESC\n",
    "\"\"\"\n",
    "\n",
    "results = c.fetch_custom(q)\n",
    "\n",
    "print(f\"Found {len(results)} results\")"
   ]
  },
  {
   "cell_type": "markdown",
   "id": "61be6d68",
   "metadata": {},
   "source": [
    "# Search Criteria"
   ]
  },
  {
   "cell_type": "raw",
   "id": "e42bbc45",
   "metadata": {},
   "source": [
    "#neuron search criteria\n",
    "\n",
    "from neuprint import NeuronCriteria as NC\n",
    "\n",
    "# Example: Select a specific body\n",
    "criteria = 387023620\n",
    "criteria = NC(bodyId=387023620)\n",
    "\n",
    "# Example: Select several bodies\n",
    "criteria = [387023620, 387364605, 416642425]\n",
    "criteria = NC(bodyId=[387023620, 387364605, 416642425])\n",
    "\n",
    "# Example: Select bodies by exact type\n",
    "criteria = 'PEN_b(PEN2)'\n",
    "criteria = NC(type='PENPEN_b(PEN2)')\n",
    "\n",
    "# Example: Select bodies by exact instance\n",
    "criteria = 'PEN(PB06)_b_L4'\n",
    "criteria = NC(type='PEN(PB06)_b_L4')\n",
    "\n",
    "# Example: Select bodies by type name pattern\n",
    "criteria = NC(type='PEN.*', regex=True)\n",
    "\n",
    "# Example: Select bodies by region (input or output)\n",
    "criteria = NC(rois=['PB', 'EB'])\n",
    "\n",
    "# Example: Select traced neurons which intersect the PB ROI with at least 100 inputs (PSDs).\n",
    "criteria = NC(inputRois=['PB'], min_roi_inputs=100, status='Traced', cropped=False)\n",
    "\n"
   ]
  },
  {
   "cell_type": "markdown",
   "id": "74f56939",
   "metadata": {},
   "source": [
    "# Functions"
   ]
  },
  {
   "cell_type": "code",
   "execution_count": null,
   "id": "c1557f59",
   "metadata": {
    "scrolled": true
   },
   "outputs": [],
   "source": [
    "#fetch neuron properties by body ID or neuron type\n",
    "#to switch desired search criteria, assign value to preferred variable & insert variable into fetch_neurons()\n",
    "\n",
    "list = [880875742, 910783805910787908, 940787029, 941814244, 941831818, 942959557, 943269573, 973894912, 973963898, 1003672833, 1035640810, 1066748608, 1095271087,1095279301, 1097407853, 1125969140, 1128097470, 1128757926, 1188388754, 5813016150, 5813041382, 5813069339, 5813087532]\n",
    "criteria = 'PEN_b(PEN2)'\n",
    "\n",
    "from neuprint import fetch_neurons, NeuronCriteria as NC\n",
    "\n",
    "neuron_df, roi_counts_df = fetch_neurons(list) #change variable here to change query type\n",
    "\n",
    "neuron_df[['bodyId', 'instance', 'type', 'pre', 'post', 'status', 'cropped', 'size']]"
   ]
  },
  {
   "cell_type": "code",
   "execution_count": null,
   "id": "c983ac31",
   "metadata": {
    "scrolled": false
   },
   "outputs": [],
   "source": [
    "#neuprint's program\n",
    "\n",
    "#fetch neuron connections: all direct connections between upstream/downstream neurons. \n",
    "#independent from above, but required for the below table/matrix.\n",
    "#can query by various parameters a manual list or by type as specified in the current code\n",
    "\n",
    "list = [1344258473, 1375366517]\n",
    "\n",
    "from neuprint import fetch_adjacencies, NeuronCriteria as NC\n",
    "neuron_df, conn_df = fetch_adjacencies(NC(type='IbSpsP.*', regex=True), NC(type='Delta.*', regex=True), min_roi_weight=0, min_total_weight=0)\n",
    "\n",
    "conn_df.sort_values('weight')"
   ]
  },
  {
   "cell_type": "markdown",
   "id": "afa00c25",
   "metadata": {},
   "source": [
    "## Generate a pandas dataframe connectivity matrix and convert to exported .csv file"
   ]
  },
  {
   "cell_type": "code",
   "execution_count": null,
   "id": "d321ec7f",
   "metadata": {},
   "outputs": [],
   "source": [
    "#Numpy Array Connectivity Matrix of neurons queried by type. No current ability to order neurons by instance or subregional\n",
    "    #localization; if fine ordering desired, must manually generate list\n",
    "\n",
    "from neuprint import fetch_neurons, fetch_adjacencies, NeuronCriteria as NC\n",
    "\n",
    "pre_criteria = 'IbSpsP'\n",
    "pre_df, roi_counts_df = fetch_neurons(pre_criteria)\n",
    "list_post = trial_df['bodyId'].tolist()\n",
    "\n",
    "post_criteria = 'Delta'\n",
    "post_df, roi_counts_df = fetch_neurons(post_criteria)\n",
    "list_pre = trial_df['bodyId'].tolist()\n",
    "\n",
    "weights = np.zeros(((len(list_pre)+1), (len(list_post))+1), dtype = np.uint64)\n",
    "\n",
    "for i in range(len(list_pre)):\n",
    "    for j in range(len(list_post)):\n",
    "        if j == 0:\n",
    "            weights[i+1,j] = list_pre[i]\n",
    "                \n",
    "        if i == 0:\n",
    "            weights[i,j+1] = list_post[j]\n",
    "        \n",
    "        \n",
    "        try:\n",
    "            neuron_df, conn_df = fetch_adjacencies(list_pre[i], list_post[j])\n",
    "        except KeyError:\n",
    "            print(i)\n",
    "            print(j)\n",
    "            print(\"\")\n",
    "            weight = 9999\n",
    "        else:\n",
    "            if conn_df.empty:\n",
    "                weight = 0\n",
    "            else:\n",
    "                weight = int(conn_df[\"weight\"].sum())\n",
    "\n",
    "        \n",
    "        weights[i+1,j+1] = weight\n",
    "        \n",
    "sample_df = pd.DataFrame(weights)\n",
    "sample_df.to_csv('IbSpsP_to_GnL0_array_ordered.csv')        \n",
    "        \n",
    "#print(weights)\n",
    "print('Conversion Complete')"
   ]
  },
  {
   "cell_type": "code",
   "execution_count": null,
   "id": "4d350561",
   "metadata": {},
   "outputs": [],
   "source": [
    "#Numpy Array Connectivity Matrix of manually generated list of pre and post neurons. \n",
    "    #Pre-neurons on y-axis, post-neurons in x-axis. Exports to :C\\Users\\\n",
    "\n",
    "#this version enables manual ordering of neurons (desirable if for ex. ordering neurons by glomerular localization on axes)\n",
    "\n",
    "from neuprint import fetch_adjacencies, NeuronCriteria as NC\n",
    "\n",
    "#GnL0\n",
    "list_post = [1375366517, 1344258473]\n",
    "#IbSpsP\n",
    "list_pre = [5813069339, 1066748608, 1003672833, 942959557, 880875742, 5813041382, 973963898, 1128097470, 943269573, 1097407853, 1128757926, 1035640810, 5813016150, 910787908, 941831818, 973894912, 910783805, 940787029, 941814244, 1095271087, 1125969140, 5813087532, 1188388754, 1095279301]         \n",
    "\n",
    "weights = np.zeros(((len(list_pre)+1), (len(list_post))+1), dtype = np.uint64)\n",
    "\n",
    "for i in range(len(list_pre)):\n",
    "    for j in range(len(list_post)):\n",
    "        if j == 0:\n",
    "            weights[i+1,j] = list_pre[i]\n",
    "                \n",
    "        if i == 0:\n",
    "            weights[i,j+1] = list_post[j]\n",
    "        \n",
    "        \n",
    "        try:\n",
    "            neuron_df, conn_df = fetch_adjacencies(list_pre[i], list_post[j])\n",
    "        except KeyError:\n",
    "            print(i)\n",
    "            print(j)\n",
    "            print(\"\")\n",
    "            weight = 9999\n",
    "        else:\n",
    "            if conn_df.empty:\n",
    "                weight = 0\n",
    "            else:\n",
    "                weight = int(conn_df[\"weight\"].sum())\n",
    "\n",
    "        \n",
    "        weights[i+1,j+1] = weight\n",
    "        \n",
    "sample_df = pd.DataFrame(weights)\n",
    "sample_df.to_csv('IbSpsP_to_GnL0_array_ordered.csv')        \n",
    "        \n",
    "#print(weights)\n",
    "print('Conversion Complete')\n",
    "        \n",
    "        \n"
   ]
  },
  {
   "cell_type": "markdown",
   "id": "818f975a",
   "metadata": {},
   "source": [
    "## Incomplete Code: Create Connectivity Matrix in format convertable to Heatmap"
   ]
  },
  {
   "cell_type": "code",
   "execution_count": null,
   "id": "7715a7fe",
   "metadata": {
    "scrolled": true
   },
   "outputs": [],
   "source": [
    "#merge arbitrary neuron properties onto the connection table\n",
    "\n",
    "from neuprint import merge_neuron_properties\n",
    "\n",
    "print(conn_df)\n",
    "conn_df = merge_neuron_properties(neuron_df, conn_df, ['type', 'instance'])\n",
    "\n"
   ]
  },
  {
   "cell_type": "code",
   "execution_count": null,
   "id": "1c98f6cd",
   "metadata": {
    "scrolled": true
   },
   "outputs": [],
   "source": [
    "#create connectivity matrix from above fetch neuron connections \n",
    "#must adjust matrix.iloc values to >/= number of pre/post neurons being queried\n",
    "\n",
    "from neuprint.utils import connection_table_to_matrix\n",
    "\n",
    "matrix = connection_table_to_matrix(conn_df, 'bodyId', sort_by='instance')\n",
    "matrix.iloc[:50, :50]\n",
    "\n",
    "#X-axis = post, Y-axis = pre"
   ]
  },
  {
   "cell_type": "code",
   "execution_count": null,
   "id": "8ead248f",
   "metadata": {},
   "outputs": [],
   "source": [
    "#export above connectivity matrix as excel file\n",
    "#assigned file_name must end in .xlsx\n",
    "#dafault exports to C:Users/Name\n",
    "\n",
    "conn_matrix = pd.DataFrame(matrix)\n",
    "file_name = 'Test_ISP_Delta_order_matrix.xlsx'\n",
    "\n",
    "conn_matrix.to_excel(file_name)\n",
    "print('DataFrame is written to Excel File successfully.')"
   ]
  },
  {
   "cell_type": "markdown",
   "id": "4bad1dd1",
   "metadata": {},
   "source": [
    "## Incomplete Code for Connectivity Matrix to Heat Map"
   ]
  },
  {
   "cell_type": "code",
   "execution_count": null,
   "id": "d709437e",
   "metadata": {},
   "outputs": [],
   "source": [
    "#create heat map from connectivity matrix\n",
    "\n",
    "matrix.hvplot.heatmap(height=600, width=700).opts(xrotation=60)"
   ]
  },
  {
   "cell_type": "code",
   "execution_count": null,
   "id": "3385dc04",
   "metadata": {},
   "outputs": [],
   "source": [
    "list = [1344258473, 1375366517]\n",
    "\n",
    "from neuprint import fetch_adjacencies, NeuronCriteria as NC\n",
    "neuron_df, conn_df = fetch_adjacencies(((list), Regex=True), NC(type='PEN_b.*', regex=True))\n",
    "\n",
    "conn_df.sort_values('weight', ascending=False)"
   ]
  }
 ],
 "metadata": {
  "kernelspec": {
   "display_name": "Python 3",
   "language": "python",
   "name": "python3"
  },
  "language_info": {
   "codemirror_mode": {
    "name": "ipython",
    "version": 3
   },
   "file_extension": ".py",
   "mimetype": "text/x-python",
   "name": "python",
   "nbconvert_exporter": "python",
   "pygments_lexer": "ipython3",
   "version": "3.8.8"
  }
 },
 "nbformat": 4,
 "nbformat_minor": 5
}
